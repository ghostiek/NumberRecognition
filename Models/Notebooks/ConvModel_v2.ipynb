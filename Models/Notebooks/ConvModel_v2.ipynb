{
  "nbformat": 4,
  "nbformat_minor": 0,
  "metadata": {
    "colab": {
      "name": "ConvModel_v2.ipynb",
      "version": "0.3.2",
      "provenance": [],
      "collapsed_sections": []
    },
    "kernelspec": {
      "name": "python3",
      "display_name": "Python 3"
    },
    "accelerator": "GPU"
  },
  "cells": [
    {
      "metadata": {
        "id": "eavu1SjVUK-8",
        "colab_type": "code",
        "colab": {
          "base_uri": "https://localhost:8080/",
          "height": 34
        },
        "outputId": "14c069bd-a6ed-49dd-9317-3c6f4c7c496e"
      },
      "cell_type": "code",
      "source": [
        "import pandas as pd\n",
        "import matplotlib.pyplot as plt\n",
        "from keras.layers import BatchNormalization\n",
        "from keras.layers.core import Dense, Dropout, Flatten\n",
        "from keras.layers.convolutional import Conv2D, MaxPooling2D\n",
        "from keras.models import Sequential\n",
        "from keras.models import load_model\n",
        "from keras.utils import np_utils\n",
        "from keras.datasets import mnist\n",
        "from keras.callbacks import EarlyStopping, ReduceLROnPlateau\n",
        "import numpy as np"
      ],
      "execution_count": 2,
      "outputs": [
        {
          "output_type": "stream",
          "text": [
            "Using TensorFlow backend.\n"
          ],
          "name": "stderr"
        }
      ]
    },
    {
      "metadata": {
        "id": "HTiiiDstUK_H",
        "colab_type": "code",
        "colab": {
          "base_uri": "https://localhost:8080/",
          "height": 51
        },
        "outputId": "ac90f2ed-dc98-4ba2-844c-a1c622f7bbd8"
      },
      "cell_type": "code",
      "source": [
        "(X_train, y_train), (X_test, y_test) = mnist.load_data()\n",
        "X_train = np.array(X_train, dtype = np.float32)\n",
        "X_test = np.array(X_test, dtype = np.float32)\n",
        "X_train = X_train.reshape(60000, 28,28,1)\n",
        "X_test = X_test.reshape(10000, 28,28,1)\n",
        "y_train = np_utils.to_categorical(y_train, 10)\n",
        "y_test = np_utils.to_categorical(y_test, 10)"
      ],
      "execution_count": 3,
      "outputs": [
        {
          "output_type": "stream",
          "text": [
            "Downloading data from https://s3.amazonaws.com/img-datasets/mnist.npz\n",
            "11493376/11490434 [==============================] - 2s 0us/step\n"
          ],
          "name": "stdout"
        }
      ]
    },
    {
      "metadata": {
        "id": "Jn_10IK3UK_N",
        "colab_type": "code",
        "outputId": "dabfaa25-9c82-4e23-890e-f8aeb2c94c78",
        "colab": {
          "base_uri": "https://localhost:8080/",
          "height": 1904
        }
      },
      "cell_type": "code",
      "source": [
        "#Using ConvNets\n",
        "convmodel = Sequential()\n",
        "convmodel.add(Conv2D(filters=32, padding = \"same\", kernel_size = (5,5), activation = \"relu\", input_shape = (28,28,1)))\n",
        "convmodel.add(BatchNormalization())\n",
        "convmodel.add(Conv2D(filters=32, padding = \"same\", kernel_size = (5,5), activation = \"relu\"))\n",
        "convmodel.add(BatchNormalization())\n",
        "convmodel.add(MaxPooling2D(pool_size=(2,2)))\n",
        "convmodel.add(Dropout(0.2))\n",
        "convmodel.add(Conv2D(filters=64, padding = \"same\", kernel_size = (3,3), activation = \"relu\"))\n",
        "convmodel.add(BatchNormalization())\n",
        "convmodel.add(Conv2D(filters=64, padding = \"same\", kernel_size = (3,3), activation = \"relu\"))\n",
        "convmodel.add(BatchNormalization())\n",
        "convmodel.add(MaxPooling2D(pool_size=(2,2)))\n",
        "convmodel.add(Dropout(0.4))\n",
        "convmodel.add(Flatten())\n",
        "convmodel.add(Dense(500, activation = \"relu\"))\n",
        "convmodel.add(Dense(10, activation = \"softmax\"))\n",
        "lr_reduc = ReduceLROnPlateau(monitor='val_acc', patience=5, verbose=1, factor=0.9, min_lr=0.00001)\n",
        "convmodel.compile(optimizer = \"adadelta\", loss = \"categorical_crossentropy\", metrics=[\"accuracy\"])\n",
        "convhist = convmodel.fit(X_train, y_train, batch_size=128, epochs=50, verbose = 1, validation_data=(X_test, y_test), callbacks=[lr_reduc])"
      ],
      "execution_count": 7,
      "outputs": [
        {
          "output_type": "stream",
          "text": [
            "Train on 60000 samples, validate on 10000 samples\n",
            "Epoch 1/50\n",
            "60000/60000 [==============================] - 16s 263us/step - loss: 0.4798 - acc: 0.9331 - val_loss: 0.0631 - val_acc: 0.9818\n",
            "Epoch 2/50\n",
            "60000/60000 [==============================] - 15s 246us/step - loss: 0.0517 - acc: 0.9843 - val_loss: 0.0562 - val_acc: 0.9831\n",
            "Epoch 3/50\n",
            "60000/60000 [==============================] - 15s 246us/step - loss: 0.0357 - acc: 0.9893 - val_loss: 0.0373 - val_acc: 0.9888\n",
            "Epoch 4/50\n",
            "60000/60000 [==============================] - 15s 246us/step - loss: 0.0273 - acc: 0.9919 - val_loss: 0.0234 - val_acc: 0.9932\n",
            "Epoch 5/50\n",
            "60000/60000 [==============================] - 15s 247us/step - loss: 0.0207 - acc: 0.9938 - val_loss: 0.0221 - val_acc: 0.9940\n",
            "Epoch 6/50\n",
            "60000/60000 [==============================] - 15s 246us/step - loss: 0.0184 - acc: 0.9945 - val_loss: 0.0164 - val_acc: 0.9950\n",
            "Epoch 7/50\n",
            "60000/60000 [==============================] - 15s 247us/step - loss: 0.0147 - acc: 0.9956 - val_loss: 0.0287 - val_acc: 0.9918\n",
            "Epoch 8/50\n",
            "60000/60000 [==============================] - 15s 246us/step - loss: 0.0122 - acc: 0.9962 - val_loss: 0.0205 - val_acc: 0.9942\n",
            "Epoch 9/50\n",
            "60000/60000 [==============================] - 15s 246us/step - loss: 0.0097 - acc: 0.9966 - val_loss: 0.0270 - val_acc: 0.9938\n",
            "Epoch 10/50\n",
            "60000/60000 [==============================] - 15s 246us/step - loss: 0.0095 - acc: 0.9970 - val_loss: 0.0235 - val_acc: 0.9932\n",
            "Epoch 11/50\n",
            "60000/60000 [==============================] - 15s 246us/step - loss: 0.0078 - acc: 0.9976 - val_loss: 0.0220 - val_acc: 0.9940\n",
            "\n",
            "Epoch 00011: ReduceLROnPlateau reducing learning rate to 0.9.\n",
            "Epoch 12/50\n",
            "60000/60000 [==============================] - 15s 246us/step - loss: 0.0060 - acc: 0.9978 - val_loss: 0.0219 - val_acc: 0.9951\n",
            "Epoch 13/50\n",
            "60000/60000 [==============================] - 15s 246us/step - loss: 0.0045 - acc: 0.9985 - val_loss: 0.0222 - val_acc: 0.9949\n",
            "Epoch 14/50\n",
            "60000/60000 [==============================] - 15s 246us/step - loss: 0.0040 - acc: 0.9987 - val_loss: 0.0265 - val_acc: 0.9938\n",
            "Epoch 15/50\n",
            "60000/60000 [==============================] - 15s 246us/step - loss: 0.0042 - acc: 0.9986 - val_loss: 0.0276 - val_acc: 0.9944\n",
            "Epoch 16/50\n",
            "60000/60000 [==============================] - 15s 245us/step - loss: 0.0038 - acc: 0.9987 - val_loss: 0.0214 - val_acc: 0.9947\n",
            "\n",
            "Epoch 00016: ReduceLROnPlateau reducing learning rate to 0.8099999785423279.\n",
            "Epoch 17/50\n",
            "60000/60000 [==============================] - 15s 245us/step - loss: 0.0035 - acc: 0.9989 - val_loss: 0.0206 - val_acc: 0.9955\n",
            "Epoch 18/50\n",
            "60000/60000 [==============================] - 15s 246us/step - loss: 0.0028 - acc: 0.9991 - val_loss: 0.0213 - val_acc: 0.9956\n",
            "Epoch 19/50\n",
            "60000/60000 [==============================] - 15s 246us/step - loss: 0.0027 - acc: 0.9992 - val_loss: 0.0252 - val_acc: 0.9949\n",
            "Epoch 20/50\n",
            "60000/60000 [==============================] - 15s 246us/step - loss: 0.0023 - acc: 0.9993 - val_loss: 0.0220 - val_acc: 0.9950\n",
            "Epoch 21/50\n",
            "60000/60000 [==============================] - 15s 246us/step - loss: 0.0015 - acc: 0.9996 - val_loss: 0.0194 - val_acc: 0.9961\n",
            "Epoch 22/50\n",
            "60000/60000 [==============================] - 15s 246us/step - loss: 0.0016 - acc: 0.9995 - val_loss: 0.0226 - val_acc: 0.9956\n",
            "Epoch 23/50\n",
            "60000/60000 [==============================] - 15s 246us/step - loss: 0.0022 - acc: 0.9994 - val_loss: 0.0188 - val_acc: 0.9955\n",
            "Epoch 24/50\n",
            "60000/60000 [==============================] - 15s 247us/step - loss: 0.0015 - acc: 0.9996 - val_loss: 0.0207 - val_acc: 0.9950\n",
            "Epoch 25/50\n",
            "60000/60000 [==============================] - 15s 246us/step - loss: 0.0022 - acc: 0.9994 - val_loss: 0.0202 - val_acc: 0.9962\n",
            "Epoch 26/50\n",
            "60000/60000 [==============================] - 15s 246us/step - loss: 0.0016 - acc: 0.9996 - val_loss: 0.0196 - val_acc: 0.9963\n",
            "Epoch 27/50\n",
            "60000/60000 [==============================] - 15s 246us/step - loss: 0.0014 - acc: 0.9996 - val_loss: 0.0201 - val_acc: 0.9959\n",
            "Epoch 28/50\n",
            "60000/60000 [==============================] - 15s 247us/step - loss: 0.0013 - acc: 0.9995 - val_loss: 0.0252 - val_acc: 0.9954\n",
            "Epoch 29/50\n",
            "60000/60000 [==============================] - 15s 246us/step - loss: 0.0012 - acc: 0.9997 - val_loss: 0.0237 - val_acc: 0.9952\n",
            "Epoch 30/50\n",
            "60000/60000 [==============================] - 15s 247us/step - loss: 0.0012 - acc: 0.9996 - val_loss: 0.0222 - val_acc: 0.9952\n",
            "Epoch 31/50\n",
            "60000/60000 [==============================] - 15s 246us/step - loss: 9.5651e-04 - acc: 0.9998 - val_loss: 0.0212 - val_acc: 0.9959\n",
            "\n",
            "Epoch 00031: ReduceLROnPlateau reducing learning rate to 0.7290000021457672.\n",
            "Epoch 32/50\n",
            "60000/60000 [==============================] - 15s 247us/step - loss: 0.0010 - acc: 0.9998 - val_loss: 0.0236 - val_acc: 0.9952\n",
            "Epoch 33/50\n",
            "60000/60000 [==============================] - 15s 246us/step - loss: 0.0012 - acc: 0.9996 - val_loss: 0.0241 - val_acc: 0.9955\n",
            "Epoch 34/50\n",
            "60000/60000 [==============================] - 15s 246us/step - loss: 9.1424e-04 - acc: 0.9998 - val_loss: 0.0245 - val_acc: 0.9960\n",
            "Epoch 35/50\n",
            "60000/60000 [==============================] - 15s 246us/step - loss: 8.0331e-04 - acc: 0.9998 - val_loss: 0.0216 - val_acc: 0.9954\n",
            "Epoch 36/50\n",
            "60000/60000 [==============================] - 15s 246us/step - loss: 7.6843e-04 - acc: 0.9999 - val_loss: 0.0240 - val_acc: 0.9961\n",
            "\n",
            "Epoch 00036: ReduceLROnPlateau reducing learning rate to 0.6560999751091003.\n",
            "Epoch 37/50\n",
            "60000/60000 [==============================] - 15s 246us/step - loss: 0.0011 - acc: 0.9997 - val_loss: 0.0223 - val_acc: 0.9954\n",
            "Epoch 38/50\n",
            "60000/60000 [==============================] - 15s 247us/step - loss: 7.1563e-04 - acc: 0.9999 - val_loss: 0.0233 - val_acc: 0.9957\n",
            "Epoch 39/50\n",
            "60000/60000 [==============================] - 15s 247us/step - loss: 9.4813e-04 - acc: 0.9998 - val_loss: 0.0219 - val_acc: 0.9957\n",
            "Epoch 40/50\n",
            "60000/60000 [==============================] - 15s 246us/step - loss: 8.6474e-04 - acc: 0.9997 - val_loss: 0.0226 - val_acc: 0.9961\n",
            "Epoch 41/50\n",
            "60000/60000 [==============================] - 15s 246us/step - loss: 9.6700e-04 - acc: 0.9997 - val_loss: 0.0221 - val_acc: 0.9967\n",
            "Epoch 42/50\n",
            "60000/60000 [==============================] - 15s 246us/step - loss: 8.6156e-04 - acc: 0.9998 - val_loss: 0.0252 - val_acc: 0.9957\n",
            "Epoch 43/50\n",
            "60000/60000 [==============================] - 15s 246us/step - loss: 7.8821e-04 - acc: 0.9998 - val_loss: 0.0242 - val_acc: 0.9957\n",
            "Epoch 44/50\n",
            "60000/60000 [==============================] - 15s 247us/step - loss: 6.9791e-04 - acc: 0.9998 - val_loss: 0.0240 - val_acc: 0.9955\n",
            "Epoch 45/50\n",
            "60000/60000 [==============================] - 15s 247us/step - loss: 5.2528e-04 - acc: 0.9999 - val_loss: 0.0235 - val_acc: 0.9960\n",
            "Epoch 46/50\n",
            "60000/60000 [==============================] - 15s 246us/step - loss: 6.9353e-04 - acc: 0.9998 - val_loss: 0.0241 - val_acc: 0.9952\n",
            "\n",
            "Epoch 00046: ReduceLROnPlateau reducing learning rate to 0.5904899775981903.\n",
            "Epoch 47/50\n",
            "60000/60000 [==============================] - 15s 246us/step - loss: 6.9655e-04 - acc: 0.9998 - val_loss: 0.0259 - val_acc: 0.9951\n",
            "Epoch 48/50\n",
            "60000/60000 [==============================] - 15s 246us/step - loss: 6.7101e-04 - acc: 0.9998 - val_loss: 0.0251 - val_acc: 0.9951\n",
            "Epoch 49/50\n",
            "60000/60000 [==============================] - 15s 246us/step - loss: 4.6966e-04 - acc: 0.9999 - val_loss: 0.0235 - val_acc: 0.9958\n",
            "Epoch 50/50\n",
            "60000/60000 [==============================] - 15s 246us/step - loss: 6.6219e-04 - acc: 0.9999 - val_loss: 0.0252 - val_acc: 0.9957\n"
          ],
          "name": "stdout"
        }
      ]
    },
    {
      "metadata": {
        "id": "uwW2mjZFUK_T",
        "colab_type": "code",
        "outputId": "93198c1c-feb8-443f-9e80-a5641fd7e740",
        "colab": {
          "base_uri": "https://localhost:8080/",
          "height": 34
        }
      },
      "cell_type": "code",
      "source": [
        "score = convmodel.evaluate(X_test, y_test,verbose=0)\n",
        "score"
      ],
      "execution_count": 8,
      "outputs": [
        {
          "output_type": "execute_result",
          "data": {
            "text/plain": [
              "[0.025153671517634302, 0.9957]"
            ]
          },
          "metadata": {
            "tags": []
          },
          "execution_count": 8
        }
      ]
    },
    {
      "metadata": {
        "id": "xE9Q8lIcUK_a",
        "colab_type": "code",
        "outputId": "2d1e7fbf-6cc4-474e-fcbf-3e96e44509a3",
        "colab": {
          "base_uri": "https://localhost:8080/",
          "height": 361
        }
      },
      "cell_type": "code",
      "source": [
        "plt.plot(range(1, len(convhist.history[\"val_loss\"])+1), convhist.history['val_loss'], 'b')\n",
        "plt.xlabel('Epochs')\n",
        "plt.ylabel('Validation score')\n",
        "plt.show()"
      ],
      "execution_count": 9,
      "outputs": [
        {
          "output_type": "display_data",
          "data": {
            "image/png": "[encoded data removed]",
            "text/plain": [
              "<Figure size 576x396 with 1 Axes>"
            ]
          },
          "metadata": {
            "tags": []
          }
        }
      ]
    },
    {
      "metadata": {
        "id": "lV0v5RV9UK_g",
        "colab_type": "code",
        "outputId": "59d22e5a-00d2-4a4b-8539-4609346a1921",
        "colab": {
          "base_uri": "https://localhost:8080/",
          "height": 361
        }
      },
      "cell_type": "code",
      "source": [
        "plt.plot(range(1, len(convhist.history[\"val_acc\"])+1), convhist.history['val_acc'], 'b')\n",
        "plt.xlabel('Epochs')\n",
        "plt.ylabel('Validation score')\n",
        "plt.show()"
      ],
      "execution_count": 10,
      "outputs": [
        {
          "output_type": "display_data",
          "data": {
            "image/png": "[encoded data removed]",
            "text/plain": [
              "<Figure size 576x396 with 1 Axes>"
            ]
          },
          "metadata": {
            "tags": []
          }
        }
      ]
    },
    {
      "metadata": {
        "id": "HoNmi0Q2UK_k",
        "colab_type": "code",
        "colab": {}
      },
      "cell_type": "code",
      "source": [
        "convmodel.save(\"ConvModel_v2.h5\")"
      ],
      "execution_count": 0,
      "outputs": []
    },
    {
      "metadata": {
        "id": "DLK84xX3vUgq",
        "colab_type": "code",
        "colab": {}
      },
      "cell_type": "code",
      "source": [
        "from google.colab import files\n",
        "files.download(\"ConvModel_v2.h5\")"
      ],
      "execution_count": 0,
      "outputs": []
    }
  ]
}