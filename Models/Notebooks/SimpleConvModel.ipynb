{
 "cells": [
  {
   "cell_type": "code",
   "execution_count": 1,
   "metadata": {},
   "outputs": [
    {
     "name": "stderr",
     "output_type": "stream",
     "text": [
      "Using TensorFlow backend.\n"
     ]
    }
   ],
   "source": [
    "import pandas as pd\n",
    "import matplotlib.pyplot as plt\n",
    "from keras.layers.core import Dense, Dropout, Flatten\n",
    "from keras.layers.convolutional import Conv2D, MaxPooling2D\n",
    "from keras.models import Sequential\n",
    "from keras.models import load_model\n",
    "from keras.utils import np_utils\n",
    "from keras.datasets import mnist\n",
    "from keras.callbacks import EarlyStopping\n",
    "import numpy as np"
   ]
  },
  {
   "cell_type": "code",
   "execution_count": 2,
   "metadata": {},
   "outputs": [
    {
     "name": "stdout",
     "output_type": "stream",
     "text": [
      "Downloading data from https://s3.amazonaws.com/img-datasets/mnist.npz\n",
      "11493376/11490434 [==============================] - 12s 1us/step\n"
     ]
    }
   ],
   "source": [
    "(X_train, y_train), (X_test, y_test) = mnist.load_data()\n",
    "X_train = np.array(X_train, dtype = np.float32)\n",
    "X_test = np.array(X_test, dtype = np.float32)\n",
    "X_train = X_train.reshape(60000, 28,28,1)\n",
    "X_test = X_test.reshape(10000, 28,28,1)\n",
    "y_train = np_utils.to_categorical(y_train, 10)\n",
    "y_test = np_utils.to_categorical(y_test, 10)"
   ]
  },
  {
   "cell_type": "code",
   "execution_count": 3,
   "metadata": {},
   "outputs": [
    {
     "name": "stdout",
     "output_type": "stream",
     "text": [
      "Train on 60000 samples, validate on 10000 samples\n",
      "Epoch 1/10\n",
      "60000/60000 [==============================] - 600s 10ms/step - loss: 2.5649 - acc: 0.8119 - val_loss: 0.0627 - val_acc: 0.9811\n",
      "Epoch 2/10\n",
      "60000/60000 [==============================] - 621s 10ms/step - loss: 0.0575 - acc: 0.9825 - val_loss: 0.0513 - val_acc: 0.9829\n",
      "Epoch 3/10\n",
      "60000/60000 [==============================] - 521s 9ms/step - loss: 0.0377 - acc: 0.9887 - val_loss: 0.0518 - val_acc: 0.9831\n",
      "Epoch 4/10\n",
      "60000/60000 [==============================] - 662s 11ms/step - loss: 0.0299 - acc: 0.9901 - val_loss: 0.0563 - val_acc: 0.9846\n",
      "Epoch 5/10\n",
      "60000/60000 [==============================] - 555s 9ms/step - loss: 0.0274 - acc: 0.9911 - val_loss: 0.0539 - val_acc: 0.9840\n",
      "Epoch 6/10\n",
      "60000/60000 [==============================] - 606s 10ms/step - loss: 0.0239 - acc: 0.9923 - val_loss: 0.0926 - val_acc: 0.9773\n",
      "Epoch 7/10\n",
      "60000/60000 [==============================] - 542s 9ms/step - loss: 0.0268 - acc: 0.9919 - val_loss: 0.0581 - val_acc: 0.9858\n",
      "Epoch 8/10\n",
      "60000/60000 [==============================] - 407s 7ms/step - loss: 0.0211 - acc: 0.9937 - val_loss: 0.0640 - val_acc: 0.9846\n",
      "Epoch 9/10\n",
      "60000/60000 [==============================] - 468s 8ms/step - loss: 0.0185 - acc: 0.9950 - val_loss: 0.0778 - val_acc: 0.9837\n",
      "Epoch 10/10\n",
      "60000/60000 [==============================] - 389s 6ms/step - loss: 0.0201 - acc: 0.9941 - val_loss: 0.0926 - val_acc: 0.9837\n"
     ]
    }
   ],
   "source": [
    "#Using ConvNets\n",
    "convmodel = Sequential()\n",
    "convmodel.add(Conv2D(filters=32, padding = \"same\", kernel_size = (5,5), activation = \"relu\", input_shape = (28,28,1)))\n",
    "convmodel.add(Conv2D(filters=32, padding = \"same\", kernel_size = (5,5), activation = \"relu\"))\n",
    "convmodel.add(MaxPooling2D(pool_size=(2,2)))\n",
    "convmodel.add(Flatten())\n",
    "convmodel.add(Dense(10, activation = \"softmax\"))\n",
    "convmodel.compile(optimizer = \"adam\", loss = \"categorical_crossentropy\", metrics=[\"accuracy\"])\n",
    "convhist = convmodel.fit(X_train, y_train, batch_size=128, epochs=10, verbose = 1, validation_data=(X_test, y_test))"
   ]
  },
  {
   "cell_type": "code",
   "execution_count": 4,
   "metadata": {},
   "outputs": [
    {
     "data": {
      "text/plain": [
       "[0.09261181277320042, 0.9837]"
      ]
     },
     "execution_count": 4,
     "metadata": {},
     "output_type": "execute_result"
    }
   ],
   "source": [
    "score = convmodel.evaluate(X_test, y_test,verbose=0)\n",
    "score"
   ]
  },
  {
   "cell_type": "code",
   "execution_count": 6,
   "metadata": {},
   "outputs": [
    {
     "data": {
      "image/png": "[encoded data removed]",
      "text/plain": [
       "<Figure size 432x288 with 1 Axes>"
      ]
     },
     "metadata": {},
     "output_type": "display_data"
    }
   ],
   "source": [
    "plt.plot(range(1, len(convhist.history[\"val_loss\"])+1), convhist.history['val_loss'], 'b')\n",
    "plt.xlabel('Epochs')\n",
    "plt.ylabel('Validation score')\n",
    "plt.show()"
   ]
  },
  {
   "cell_type": "code",
   "execution_count": 8,
   "metadata": {},
   "outputs": [
    {
     "data": {
      "image/png": "[encoded data removed]",
      "text/plain": [
       "<Figure size 432x288 with 1 Axes>"
      ]
     },
     "metadata": {},
     "output_type": "display_data"
    }
   ],
   "source": [
    "plt.plot(range(1, len(convhist.history[\"val_acc\"])+1), convhist.history['val_acc'], 'b')\n",
    "plt.xlabel('Epochs')\n",
    "plt.ylabel('Validation score')\n",
    "plt.show()"
   ]
  },
  {
   "cell_type": "code",
   "execution_count": 9,
   "metadata": {},
   "outputs": [],
   "source": [
    "convmodel.save(\"SimpleConvModel.h5\")"
   ]
  }
 ],
 "metadata": {
  "kernelspec": {
   "display_name": "Python 3",
   "language": "python",
   "name": "python3"
  },
  "language_info": {
   "codemirror_mode": {
    "name": "ipython",
    "version": 3
   },
   "file_extension": ".py",
   "mimetype": "text/x-python",
   "name": "python",
   "nbconvert_exporter": "python",
   "pygments_lexer": "ipython3",
   "version": "3.6.0"
  }
 },
 "nbformat": 4,
 "nbformat_minor": 2
}
